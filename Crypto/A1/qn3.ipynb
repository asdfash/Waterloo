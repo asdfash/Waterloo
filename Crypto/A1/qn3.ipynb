{
 "cells": [
  {
   "cell_type": "markdown",
   "metadata": {},
   "source": [
    "3a)"
   ]
  },
  {
   "cell_type": "code",
   "execution_count": 1,
   "metadata": {},
   "outputs": [],
   "source": [
    "def bitject(l):\n",
    "    if l ==\"_\":\n",
    "        return 0\n",
    "    return ord(l)-64\n",
    "\n",
    "def bitunject(n):\n",
    "    if n ==0:\n",
    "        return \"_\"\n",
    "    return chr(64+n)\n",
    "\n",
    "def enc(msg,k=\"_\"):\n",
    "    encrypted = \"\"\n",
    "    for i in range(len(msg)):\n",
    "        m = i%len(k)\n",
    "        sum = (bitject(msg[i]) + bitject(k[m]))%27\n",
    "        letter = bitunject(sum)\n",
    "        encrypted += letter\n",
    "    return encrypted\n",
    "\n",
    "def dec(encrypted,k=\"_\"):\n",
    "    msg = \"\"\n",
    "    for i in range(len(encrypted)):\n",
    "        m = i%len(k)\n",
    "        sum = (bitject(encrypted[i]) - bitject(k[m]))%27\n",
    "        letter = bitunject(sum)\n",
    "        msg += letter\n",
    "    return msg\n",
    "\n"
   ]
  },
  {
   "cell_type": "markdown",
   "metadata": {},
   "source": [
    "3b)"
   ]
  },
  {
   "cell_type": "code",
   "execution_count": 15,
   "metadata": {},
   "outputs": [
    {
     "name": "stdout",
     "output_type": "stream",
     "text": [
      "SRRZVKQXASKSVWJNCLVLGADJSZUWIJJEEPTDPXRJLJXLUD_JINSJKQLVCIFVTGGXTDBORJDDHEWNAZXDGYX__SWKONZXMERYVEJLXJJPRSABSYAWQKA_GWSCMUUHKVOJNRWGSIZEYTEQ_DBUZLTIMTGQCTVXHSLZUNIFCUOCBSP_OTWPLDXMWWSWPCRKDEKEETVMOLBZCJZEADVUQKHVCYHKMSI\n",
      "DUVLQZWUJ_HOYKCBJBCVADJ_XSTNQFBYQLIVAKEKHXHWUIOJK_SCV_PFJWUHTJMWOLSVDBHNZFDBJBEGLKGALZJOKJTCYURZKCD_HJI_TJPVEUE_HHTXBJIBMQKQJNLDOWOQLWGMRFQDLD_HZSIZIILFSTBLLCUNG_HJPVGGVBHQUQQZGKYV_CPSCHCEGWCHIQGEOLBZCJZEADVUQKTYGKCZSPR\n",
      "DFYPCUK_GIPLUNRJVQJLINDCCIYGPXYREDBGX_WWVKISHHWFCEGCXMPZUFYSOUXWTLVACXPDFSWUQPTTLZPDTBOAUKTGHLSGZXJLXJJPRSABSYAWBZHQOFMFSKZAJMWFFWKGUVZYICIAGRQGZ_BLUWLCMUGDVWHVOEXZPQSGTPHXJGMOLLQZHJDWNQRRTVGUJUNQHVUPIGTOWKWCUCHVCYHKMSI\n",
      "DFJSGGFOMFYTRJUYCQV_PDLMXLDXUQXIALNVPTHSKBUFVISTBA_RPRDZWSYLZDAGOKCXVBPGLRRBGWFLDU_OTGOPCNAJMYBHZPQZLWJDLYMRSZQUKZL_FGUUMBNUWI_JLEWNHZVUCUIXX_PZKFW_EWKNOLGLOITIOQOWHNNUJOHEOWBOGLNTIOWFGDZZYWZYRPZQFIUWYXPDAL_JFKOJGIQZZEH\n",
      "DFJDJKSJALVBZGQARYV_ASSCEVY__GBB_CJCPEWKDNQVMUFGCXNQLZPNOXMLAQA_ZUGHQAL__JWBJBEGLKGALZJOKJTOMMKKGSVLVXJWGIXRXZEOQKA_GWSCMUUHKV_YFWKGUVZYICIAGRQGZ_N_AMTMGXMU_PGMKMINHVGGVBHQUQQZGKYV_ODKWTZUYHQVJMUDWHUDCYHHIG_G_LTBQBDGGJI\n",
      "DFJDVNWWW_AZHONXUMC_ASDRLLFJUJHSEWIULMWKPBIOYQVYOKARHMOJWXY_TVP_AGGAAKPKVISJVQXLLNM_GG_VXBLJLIDZZXV_D_RZLVGSXR_NYGTEGKMIYJUI_TIYYRVRU_ZMCUXUTNUKEINSH_HZGLGL_LXVJEUTQVKQMCPEOHQG_XJI__JTH_MYUDKMJUZTLHPDODBWTGZRBCTJVCWKOEI\n",
      "DFJDVZZ_IVPEEXVUQPRHASDRX_M_BTBVKMNNKDSSPBI_MIOJK_SCV_PFJWUHTVAOTLVACXPDFSWUQPTTLZASLGCAWXT_SVWRUWRHPOJDLJPVEUE_HHTXBJIBMBZIONOJNRWGSIZEYTEQLSUZZ_BLUWLCMUGDVWHVOEINHVGGVBHQUQQZGKYV_ODKHHFKFRKYPCZXVZQLCYTWALOGBYTVALHRBIE\n",
      "DFJDVZKCMHKTKUDBNLUWISDRX_YOIJJEEPTDPXRJLJI_MI_YCTDZKRATXXQVSRIOTLGPVBDDHEWNAZXDGYX_LGOPOBTCYURZKCD_HJI_TJAJXZEOQKA_GWSCMUUHKV_YFWWVMOKUYUUOUSMUYWV_MALRGLVXHSLZUNIFCUOCNGHEOHQVXTXNLUMK_CQVFWKMJUZEOLBZCJZEADVUQKTJVCHZGYU\n",
      "DFJDVZKOPLXOZ_AKVIQZX_DRX_YOUYQVMZNGVNWCKAEHMI_YCESRDCXIOIDITNWNPTGPVBPS_JKNCLXXRHAKGFKXOBTOMMWZNICVP_PMLBWITGEOBZTEGKAFUXZUUW_QAVSCM_ZMCUII_DBUZLTIMTGQCTGL_XLNOEXZPQSGTPHXJGMOLLBN_ODKWTZUYHQVJMUDWHUDCYTWALOGBYTVALHRBIE\n",
      "DFJDVZKOAOAAUOGHDQNV_OLRX_YOUYBJTPVQPQBTPUDZIQ_YCESRPRPB_ET_EAJOLGFLCBPS_JWBVQLXTUADRPOHJAPWMMWZZXV_PCVLGJMPFZXJAVAEGKMUMBZICZHTFHBDMSULZBIILSUZZ_NOYIGRSRPLSSKJWEINHVSVNGWQWCQSRUBFVN_SHHRZYWKMJIKMV_FJLYLR_HHVUCTJVCHZVVQ\n",
      "DFJDVZKOA_DEGJVNAZVSWR_ZX_YOUYBJEDBGX_WWVKISHHWFCESRPRPNOXMLAQA_ZUGHQAL__JWBVQXLLZPDTBOAUKTGHLSGZXV_POJDLJPVEUE_HHTXBJIBMBZION_YFWKGUVZYICIAGRQGZ_N_MALRGLVXHSLZUNIFCUOCNGHEOHQGLLQZHJDWNQRRTVGUJUZE__UDCYHHIG_G_LTBQBDGGJI\n",
      "DFJDVZKOA_PHKWQBGWD_TNCNE_YOUYBJEDNVDQDFPNOIMAVXZMSRPRPNOXY_TJMWOLSVDBHNZFDBVQXLLZASLGCAWXT_SVWRUWRHPOJDLJAJXZECNGOESQVUEXYEWN_YFWWVM_ZMRFQDLD_HZSIZIILRGLGL_XLNOTUVCVDAWG__NDYGLLBN_ODKHHFKFRKYPCZXVZQLCYTWAL_VUCTYGKCZSPR\n",
      "DFJDVZKOA_PTN_CXVBAIAKZQTHYOUYBJEDNVPEKWXXILSR_QYDOZPRPNOXY_TVAOHXOKVNVA_BRARYXLLZASLGOPOBH_UHWKEFVSKNFLLJAJXZEOBZTEVWUPMNEROFVXBDWVM_ZMCUIILSIKGVNLSJLJBKCT_XLNOEINHVSVBSP_OTWPLDXMWWDKHHRZYWKMJUNQHVUPIGTOWKWCUCTJVCHZGJI\n",
      "DFJDVZKOA_PTZCGJQQGFJSWMWWFOUYBJEDNVPEWKDNQVMUFGCXNQLZPNOXY_TVAOTLGDGJKSLPEBNLWHTZASLGOPOBTOMMKKGSVLVXJWGIXRXZEOBZTEGKMUMQKQJNLDOWOQLWGMCUIILSUZZ_N_AMTMGXMU_PGMKMINHVSVNGHEOHQVXTXNLUMK_CQVFWKMJUZE__UDCYHHIG_G_LTBQBDGGJI\n"
     ]
    }
   ],
   "source": [
    "#import files\n",
    "f1 = open(\"q3_c1.txt\")\n",
    "f2 = open(\"q3_c2.txt\")\n",
    "c1 = f1.read()\n",
    "c2 = f2.read()\n",
    "f1.close()\n",
    "f2.close()\n",
    "\n",
    "c1longer=0\n",
    "xored = \"\"\n",
    "if len(c1)>len(c2):\n",
    "    c1longer = 1\n",
    "if c1longer:\n",
    "    xored = dec(c1,c2)\n",
    "else:\n",
    "    xored = dec(c2,c1)\n",
    "\n",
    "k = \"LOSE_OUR_HEADS\"\n",
    "for i in range(len(k)):\n",
    "    msg = dec(xored,k)\n",
    "    k = \"_\" + k\n",
    "    print(msg)\n",
    "    \n",
    "\n"
   ]
  },
  {
   "cell_type": "markdown",
   "metadata": {},
   "source": [
    "Methodology:  \n",
    "1. xored c1 and c2 together to get m1 xor m2\n",
    "2. decrypted m1 xor m2 with variations of \"LOSE_OUR_HEADS\" to try to find a portion of m2  \n",
    "\n",
    "Since strings do not have any 14 character streams that make sense, \"LOSE_OUR_HEADS\" is not inside c1"
   ]
  },
  {
   "cell_type": "markdown",
   "metadata": {},
   "source": [
    "3c)"
   ]
  },
  {
   "cell_type": "code",
   "execution_count": 27,
   "metadata": {},
   "outputs": [
    {
     "name": "stdout",
     "output_type": "stream",
     "text": [
      "27\n",
      "0 EHIRXZLUIG\n",
      "1 JPRIUYXORN\n",
      "2 TEIROWUCIA\n",
      "3 MJRICSOFRB\n",
      "4 ZTIRFKCLID\n",
      "5 YMRILVFXRH\n",
      "6 WZIRXQLUIP\n",
      "7 SYRIUGXORE\n",
      "8 KWIRONUCIJ\n",
      "9 VSRICAOFRT\n",
      "10 QKIRFBCLIM\n",
      "11 GVRILDFXRZ\n",
      "12 NQIRXHLUIY\n",
      "13 AGRIUPXORW\n",
      "14 BNIROEUCIS\n",
      "15 DARICJOFRK\n",
      "16 HBIRFTCLIV\n",
      "17 PDRILMFXRQ\n",
      "18 EHIRXZLUIG\n",
      "19 JPRIUYXORN\n",
      "20 TEIROWUCIA\n",
      "21 MJRICSOFRB\n",
      "22 ZTIRFKCLID\n",
      "23 YMRILVFXRH\n",
      "24 WZIRXQLUIP\n",
      "25 SYRIUGXORE\n",
      "26 KWIRONUCIJ\n",
      "27 VSRICAOFRT\n",
      "28 QKIRFBCLIM\n"
     ]
    }
   ],
   "source": [
    "msg = \"HELO_WORLD\"\n",
    "omsg = \"HELO_WORLD\"\n",
    "k =\"AH\"\n",
    "for i in range(50):\n",
    "    msg= enc(msg,k)\n",
    "    if msg == omsg:\n",
    "        print(i+1) \n",
    "\n",
    "\n",
    "c = enc(msg,k)\n",
    "print(0,c)\n",
    "for i in range(28):\n",
    "    c = enc(c,c)\n",
    "    print(i+1,c)\n"
   ]
  },
  {
   "cell_type": "code",
   "execution_count": null,
   "metadata": {},
   "outputs": [],
   "source": []
  }
 ],
 "metadata": {
  "kernelspec": {
   "display_name": "Python 3.10.7 64-bit",
   "language": "python",
   "name": "python3"
  },
  "language_info": {
   "codemirror_mode": {
    "name": "ipython",
    "version": 3
   },
   "file_extension": ".py",
   "mimetype": "text/x-python",
   "name": "python",
   "nbconvert_exporter": "python",
   "pygments_lexer": "ipython3",
   "version": "3.10.7"
  },
  "orig_nbformat": 4,
  "vscode": {
   "interpreter": {
    "hash": "26de051ba29f2982a8de78e945f0abaf191376122a1563185a90213a26c5da77"
   }
  }
 },
 "nbformat": 4,
 "nbformat_minor": 2
}
