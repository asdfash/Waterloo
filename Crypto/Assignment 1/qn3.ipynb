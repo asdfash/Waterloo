{
 "cells": [
  {
   "cell_type": "markdown",
   "metadata": {},
   "source": [
    "3a)"
   ]
  },
  {
   "cell_type": "code",
   "execution_count": 16,
   "metadata": {},
   "outputs": [
    {
     "name": "stdout",
     "output_type": "stream",
     "text": [
      "HELLO_WORLD\n",
      "PNTUWIDXZUL\n",
      "HELLO_WORLD\n"
     ]
    }
   ],
   "source": [
    "def bitject(l):\n",
    "    if l ==\"_\":\n",
    "        return 0\n",
    "    return ord(l)-64\n",
    "\n",
    "def bitunject(n):\n",
    "    if n ==0:\n",
    "        return \"_\"\n",
    "    return chr(64+n)\n",
    "\n",
    "def enc(msg,k=\"_\"):\n",
    "    encrypted = \"\"\n",
    "    lk = len(k)\n",
    "    for i in range(len(msg)):\n",
    "        m = i%lk\n",
    "        sum = (bitject(msg[i]) + bitject(k[m]))%27\n",
    "        letter = bitunject(sum)\n",
    "        encrypted += letter\n",
    "    return encrypted\n",
    "\n",
    "def dec(encrypted,k=\"_\"):\n",
    "    msg = \"\"\n",
    "    lk = len(k)\n",
    "    for i in range(len(encrypted)):\n",
    "        m = i%lk\n",
    "        sum = (bitject(encrypted[i]) - bitject(k[m]))%27\n",
    "        letter = bitunject(sum)\n",
    "        msg += letter\n",
    "    return msg\n",
    "\n"
   ]
  },
  {
   "cell_type": "markdown",
   "metadata": {},
   "source": [
    "3b)"
   ]
  },
  {
   "cell_type": "code",
   "execution_count": 1,
   "metadata": {},
   "outputs": [
    {
     "name": "stdout",
     "output_type": "stream",
     "text": [
      "POGINSRBXCYVRMXBACWUUXOCLUEOGJUTQKNWYXKVTTGVXTJBWXMJVMMQSGWKZOFYUYTEBOGSZBERFIJJUR__MWLMKZSLKBADUXPBEWRECMYGLZLAHIP_GHNLRCGXBHZVKYS__SYSRUUJQRHSHTSPLAWVYOVPJDRYAOEUQPJ_WCNAOZPTSKJUVZHXRLFHIRAXLIZYZOUIRXXZVAB_M_SDCUCOVKN\n",
      "TUQMIRBQYCNOQASDWTRUVPSUIUCCAHWCVOARNBGFIVPVJBJ_ZBEAKDBDGDUKSJGMNJ_UXQWKZLATAZGVFQASYC_BZAL_XOXCTUKBUKAIOWZQIYQPJHIENS_FDEFFQVZTQUOVMSXEUOCSBJBRGTFPYBHME_BAJACLPTNHYKBVJJVFCGF_DWLHVNLHZTXGGNLJVCYCZOOMUVQVWMBVGCLNYXKNBUW\n"
     ]
    }
   ],
   "source": [
    "#import files\n",
    "f1 = open(\"q3_c1.txt\")\n",
    "f2 = open(\"q3_c2.txt\")\n",
    "c1 = f1.read()\n",
    "c2 = f2.read()\n",
    "f1.close()\n",
    "f2.close()\n",
    "print(c1)\n",
    "print(c2)\n",
    "\n",
    "\n",
    "\n"
   ]
  },
  {
   "cell_type": "code",
   "execution_count": null,
   "metadata": {},
   "outputs": [],
   "source": []
  }
 ],
 "metadata": {
  "kernelspec": {
   "display_name": "Python 3.10.7 64-bit",
   "language": "python",
   "name": "python3"
  },
  "language_info": {
   "codemirror_mode": {
    "name": "ipython",
    "version": 3
   },
   "file_extension": ".py",
   "mimetype": "text/x-python",
   "name": "python",
   "nbconvert_exporter": "python",
   "pygments_lexer": "ipython3",
   "version": "3.10.7"
  },
  "orig_nbformat": 4,
  "vscode": {
   "interpreter": {
    "hash": "26de051ba29f2982a8de78e945f0abaf191376122a1563185a90213a26c5da77"
   }
  }
 },
 "nbformat": 4,
 "nbformat_minor": 2
}
